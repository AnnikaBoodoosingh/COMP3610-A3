{
  "nbformat": 4,
  "nbformat_minor": 0,
  "metadata": {
    "colab": {
      "provenance": []
    },
    "kernelspec": {
      "name": "python3",
      "display_name": "Python 3"
    },
    "language_info": {
      "name": "python"
    }
  },
  "cells": [
    {
      "cell_type": "code",
      "source": [
        "import pandas as pd\n",
        "from sklearn.preprocessing import LabelEncoder\n",
        "from sklearn.cluster import KMeans\n",
        "import matplotlib.pyplot as plt\n",
        "import seaborn as sns\n",
        "import os\n",
        "import glob"
      ],
      "metadata": {
        "id": "bZ-no3zJPUiS"
      },
      "execution_count": 1,
      "outputs": []
    },
    {
      "cell_type": "code",
      "source": [
        "from google.colab import drive\n",
        "drive.mount('/content/drive')"
      ],
      "metadata": {
        "id": "YwwzUWdQWjGI",
        "colab": {
          "base_uri": "https://localhost:8080/"
        },
        "outputId": "6b7296dd-a61b-423c-ce43-54774c78263d"
      },
      "execution_count": 2,
      "outputs": [
        {
          "output_type": "stream",
          "name": "stdout",
          "text": [
            "Mounted at /content/drive\n"
          ]
        }
      ]
    },
    {
      "cell_type": "code",
      "source": [
        "shared_path = \"/content/drive/My Drive/Big Data A3\"  # For Shared drives\n",
        "\n",
        "# Check the folder exists\n",
        "if not os.path.exists(shared_path):\n",
        "    raise FileNotFoundError(\"Couldn't find 'Big Data A3' — check your shared drive path\")\n",
        "\n",
        "# List all Parquet files in the shared path\n",
        "files = glob.glob(shared_path + \"/*.parquet\")\n",
        "print(\"Found files:\", files)"
      ],
      "metadata": {
        "id": "jV3gABl_V1ys",
        "colab": {
          "base_uri": "https://localhost:8080/"
        },
        "outputId": "4567d0e7-f6cd-454d-ba7b-acf225f3a580"
      },
      "execution_count": 3,
      "outputs": [
        {
          "output_type": "stream",
          "name": "stdout",
          "text": [
            "Found files: ['/content/drive/My Drive/Big Data A3/Gift_Cards_Merged.parquet', '/content/drive/My Drive/Big Data A3/Digital_Music_Merged.parquet', '/content/drive/My Drive/Big Data A3/Health_and_Personal_Care_Merged.parquet', '/content/drive/My Drive/Big Data A3/All_Beauty_Merged.parquet', '/content/drive/My Drive/Big Data A3/Amazon_Fashion_Merged.parquet', '/content/drive/My Drive/Big Data A3/Appliances_Merged.parquet', '/content/drive/My Drive/Big Data A3/Cell_Phones_Merged.parquet', '/content/drive/My Drive/Big Data A3/Health_and_Household_Merged.parquet', '/content/drive/My Drive/Big Data A3/Baby_Products_Merged.parquet', '/content/drive/My Drive/Big Data A3/Arts_Crafts_and_Sewing_Merged.parquet', '/content/drive/My Drive/Big Data A3/CDs_and_Vinyl_Merged.parquet', '/content/drive/My Drive/Big Data A3/Kindle_Store_Merged.parquet', '/content/drive/My Drive/Big Data A3/Industrial_and_Scientific_Merged.parquet', '/content/drive/My Drive/Big Data A3/Magazine_Subscriptions.parquet', '/content/drive/My Drive/Big Data A3/Musical_Instruments_Merged.parquet', '/content/drive/My Drive/Big Data A3/Office_Products_Merged.parquet', '/content/drive/My Drive/Big Data A3/Movies_and_TV_Merged.parquet', '/content/drive/My Drive/Big Data A3/Patio_Lawn_and_Garden_Merged.parquet', '/content/drive/My Drive/Big Data A3/Handmade_Products_Merged.parquet', '/content/drive/My Drive/Big Data A3/Beauty_and_Personal_Care_Merged.parquet', '/content/drive/My Drive/Big Data A3/Subscription_Boxes_Merged.parquet', '/content/drive/My Drive/Big Data A3/Grocery_and_Gourmet_Merged.parquet', '/content/drive/My Drive/Big Data A3/Pet_Supplies_Merged.parquet', '/content/drive/My Drive/Big Data A3/Software_Merged.parquet', '/content/drive/My Drive/Big Data A3/Electronics_Merged.parquet', '/content/drive/My Drive/Big Data A3/Sports_and_Outdoors_Merged.parquet', '/content/drive/My Drive/Big Data A3/Automotive_Merged.parquet', '/content/drive/My Drive/Big Data A3/Video_Games_Merged.parquet', '/content/drive/My Drive/Big Data A3/Tools_and_Home_Improvement_Merged.parquet', '/content/drive/My Drive/Big Data A3/Toys_and_Games_Merged.parquet', '/content/drive/My Drive/Big Data A3/Clothes_Shoes_and_Jewelry_Merged.parquet', '/content/drive/My Drive/Big Data A3/Home_and_Kitchen_Merged.parquet', '/content/drive/My Drive/Big Data A3/Books_Merged.parquet', '/content/drive/My Drive/Big Data A3/Unknown_Merged.parquet']\n"
          ]
        }
      ]
    },
    {
      "cell_type": "code",
      "source": [
        "parquet_paths = [\n",
        "    '/content/drive/My Drive/Big Data A3/Gift_Cards_Merged.parquet',\n",
        "    '/content/drive/My Drive/Big Data A3/Digital_Music_Merged.parquet',\n",
        "    '/content/drive/My Drive/Big Data A3/Health_and_Personal_Care_Merged.parquet',\n",
        "    '/content/drive/My Drive/Big Data A3/All_Beauty_Merged.parquet',\n",
        "    '/content/drive/My Drive/Big Data A3/Amazon_Fashion_Merged.parquet',\n",
        "    '/content/drive/My Drive/Big Data A3/Appliances_Merged.parquet',\n",
        "    '/content/drive/My Drive/Big Data A3/Cell_Phones_Merged.parquet',\n",
        "    '/content/drive/My Drive/Big Data A3/Health_and_Household_Merged.parquet',\n",
        "    '/content/drive/My Drive/Big Data A3/Baby_Products_Merged.parquet',\n",
        "    '/content/drive/My Drive/Big Data A3/Arts_Crafts_and_Sewing_Merged.parquet',\n",
        "    '/content/drive/My Drive/Big Data A3/CDs_and_Vinyl_Merged.parquet',\n",
        "    '/content/drive/My Drive/Big Data A3/Kindle_Store_Merged.parquet',\n",
        "    '/content/drive/My Drive/Big Data A3/Industrial_and_Scientific_Merged.parquet',\n",
        "    '/content/drive/My Drive/Big Data A3/Magazine_Subscriptions.parquet',\n",
        "    '/content/drive/My Drive/Big Data A3/Musical_Instruments_Merged.parquet',\n",
        "    '/content/drive/My Drive/Big Data A3/Office_Products_Merged.parquet',\n",
        "    '/content/drive/My Drive/Big Data A3/Movies_and_TV_Merged.parquet',\n",
        "    '/content/drive/My Drive/Big Data A3/Patio_Lawn_and_Garden_Merged.parquet',\n",
        "    '/content/drive/My Drive/Big Data A3/Handmade_Products_Merged.parquet',\n",
        "    '/content/drive/My Drive/Big Data A3/Beauty_and_Personal_Care_Merged.parquet',\n",
        "    '/content/drive/My Drive/Big Data A3/Subscription_Boxes_Merged.parquet',\n",
        "    '/content/drive/My Drive/Big Data A3/Grocery_and_Gourmet_Merged.parquet',\n",
        "    '/content/drive/My Drive/Big Data A3/Pet_Supplies_Merged.parquet',\n",
        "    '/content/drive/My Drive/Big Data A3/Software_Merged.parquet',\n",
        "    '/content/drive/My Drive/Big Data A3/Electronics_Merged.parquet',\n",
        "    '/content/drive/My Drive/Big Data A3/Sports_and_Outdoors_Merged.parquet',\n",
        "    '/content/drive/My Drive/Big Data A3/Automotive_Merged.parquet',\n",
        "    '/content/drive/My Drive/Big Data A3/Video_Games_Merged.parquet',\n",
        "    '/content/drive/My Drive/Big Data A3/Tools_and_Home_Improvement_Merged.parquet',\n",
        "    '/content/drive/My Drive/Big Data A3/Toys_and_Games_Merged.parquet',\n",
        "    '/content/drive/My Drive/Big Data A3/Clothes_Shoes_and_Jewelry_Merged.parquet',\n",
        "    '/content/drive/My Drive/Big Data A3/Home_and_Kitchen_Merged.parquet',\n",
        "    '/content/drive/My Drive/Big Data A3/Books_Merged.parquet'\n",
        "]"
      ],
      "metadata": {
        "id": "5QDFvrqUV5iV"
      },
      "execution_count": 4,
      "outputs": []
    },
    {
      "cell_type": "code",
      "source": [
        "import dask.dataframe as dd\n",
        "from sklearn.preprocessing import LabelEncoder\n",
        "from sklearn.cluster import KMeans\n",
        "import pandas as pd\n",
        "import numpy as np\n",
        "\n",
        "# Use all three parquet files (choose your preferred ones)\n",
        "parquet_paths = [\n",
        "    '/content/drive/My Drive/Big Data A3/Amazon_Fashion_Merged.parquet',\n",
        "    '/content/drive/My Drive/Big Data A3/Baby_Products_Merged.parquet',\n",
        "    '/content/drive/My Drive/Big Data A3/All_Beauty_Merged.parquet',\n",
        "    '/content/drive/My Drive/Big Data A3/Appliances_Merged.parquet',\n",
        "    '/content/drive/My Drive/Big Data A3/Video_Games_Merged.parquet',\n",
        "    '/content/drive/My Drive/Big Data A3/Digital_Music_Merged.parquet',\n",
        "    '/content/drive/My Drive/Big Data A3/Gift_Cards_Merged.parquet',\n",
        "    '/content/drive/My Drive/Big Data A3/Books_Merged.parquet',\n",
        "    '/content/drive/My Drive/Big Data A3/Toys_and_Games_Merged.parquet',\n",
        "    '/content/drive/My Drive/Big Data A3/Clothes_Shoes_and_Jewelry_Merged.parquet',\n",
        "    '/content/drive/My Drive/Big Data A3/Home_and_Kitchen_Merged.parquet',\n",
        "    '/content/drive/My Drive/Big Data A3/Musical_Instruments_Merged.parquet',\n",
        "    '/content/drive/My Drive/Big Data A3/CDs_and_Vinyl_Merged.parquet',\n",
        "    '/content/drive/My Drive/Big Data A3/Kindle_Store_Merged.parquet',\n",
        "    '/content/drive/My Drive/Big Data A3/Industrial_and_Scientific_Merged.parquet',\n",
        "    '/content/drive/My Drive/Big Data A3/Magazine_Subscriptions.parquet',\n",
        "    '/content/drive/My Drive/Big Data A3/Arts_Crafts_and_Sewing_Merged.parquet',\n",
        "    '/content/drive/My Drive/Big Data A3/Cell_Phones_Merged.parquet',\n",
        "    '/content/drive/My Drive/Big Data A3/Health_and_Household_Merged.parquet',\n",
        "    '/content/drive/My Drive/Big Data A3/Grocery_and_Gourmet_Merged.parquet',\n",
        "    '/content/drive/My Drive/Big Data A3/Pet_Supplies_Merged.parquet',\n",
        "    '/content/drive/My Drive/Big Data A3/Software_Merged.parquet',\n",
        "    '/content/drive/My Drive/Big Data A3/Patio_Lawn_and_Garden_Merged.parquet',\n",
        "    '/content/drive/My Drive/Big Data A3/Handmade_Products_Merged.parquet',\n",
        "    '/content/drive/My Drive/Big Data A3/Beauty_and_Personal_Care_Merged.parquet',\n",
        "    '/content/drive/My Drive/Big Data A3/Subscription_Boxes_Merged.parquet'\n",
        "]\n",
        "\n",
        "# 1. Load relevant columns from the selected parquet files and combine them\n",
        "df_list = [dd.read_parquet(path, columns=['user_id', 'asin', 'rating', 'store', 'main_category']) for path in parquet_paths]\n",
        "df = dd.concat(df_list, axis=0)  # Concatenate along rows\n",
        "\n",
        "# 2. Group and compute features per product\n",
        "product_df = df.groupby('asin').agg({\n",
        "    'rating': 'mean',            # mean rating\n",
        "    'user_id': 'count',          # total reviews\n",
        "    'store': 'first',            # brand (store)\n",
        "    'main_category': 'first'     # category\n",
        "}).rename(columns={\n",
        "    'rating': 'mean_rating',\n",
        "    'user_id': 'total_reviews'\n",
        "})\n",
        "\n",
        "# 3. Fill missing values\n",
        "product_df['store'] = product_df['store'].fillna('Unknown')\n",
        "product_df['main_category'] = product_df['main_category'].fillna('Unknown')\n",
        "\n",
        "# 4. Convert to pandas DataFrame (compute)\n",
        "sample_df = product_df.compute()\n",
        "\n",
        "# 5. Encode categorical features\n",
        "brand_encoder = LabelEncoder()\n",
        "category_encoder = LabelEncoder()\n",
        "sample_df['brand_id'] = brand_encoder.fit_transform(sample_df['store'])\n",
        "sample_df['category_id'] = category_encoder.fit_transform(sample_df['main_category'])\n",
        "\n",
        "# 6. Prepare feature set\n",
        "X = sample_df[['mean_rating', 'total_reviews', 'brand_id', 'category_id']].fillna(0).astype(float)\n",
        "\n",
        "# 7. Run k-means clustering (k=5)\n",
        "kmeans = KMeans(n_clusters=5, random_state=42, n_init='auto')\n",
        "sample_df['cluster'] = kmeans.fit_predict(X)\n",
        "\n",
        "# 8. Analyze clusters\n",
        "sample_df['product_count'] = 1  # Create a count column for aggregation\n",
        "\n",
        "cluster_summary = sample_df.groupby('cluster').agg({\n",
        "    'product_count': 'sum',  # Use sum to count products per cluster\n",
        "    'mean_rating': 'mean',\n",
        "    'total_reviews': 'mean',\n",
        "    'brand_id': 'mean',\n",
        "    'category_id': 'mean'\n",
        "}).rename(columns={'product_count': 'size'})\n",
        "\n",
        "# 9. Show results\n",
        "print(cluster_summary)"
      ],
      "metadata": {
        "colab": {
          "base_uri": "https://localhost:8080/"
        },
        "id": "m1iU2gsCV5GD",
        "outputId": "289c63d7-85c3-4497-c4c3-b8b95e2ab6ce"
      },
      "execution_count": 5,
      "outputs": [
        {
          "output_type": "stream",
          "name": "stdout",
          "text": [
            "            size  mean_rating  total_reviews      brand_id  category_id\n",
            "cluster                                                                \n",
            "0        2256861     4.141781      13.874676  1.047123e+06    19.955077\n",
            "1        2906910     4.093721      15.367063  1.411233e+06    20.578222\n",
            "2        4169746     4.108525      10.393976  1.821966e+06    26.700802\n",
            "3        3040027     4.107631      14.099971  2.042639e+05    19.891722\n",
            "4        3117091     4.096628      13.540161  6.279274e+05    20.814295\n"
          ]
        }
      ]
    }
  ]
}